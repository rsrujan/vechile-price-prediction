{
 "cells": [
  {
   "cell_type": "markdown",
   "id": "a587c52b",
   "metadata": {},
   "source": [
    "# importing libraries"
   ]
  },
  {
   "cell_type": "code",
   "execution_count": 1,
   "id": "ba9dd1d7",
   "metadata": {},
   "outputs": [
    {
     "name": "stderr",
     "output_type": "stream",
     "text": [
      "C:\\Users\\SRUJAN\\anaconda3\\lib\\site-packages\\scipy\\__init__.py:146: UserWarning: A NumPy version >=1.16.5 and <1.23.0 is required for this version of SciPy (detected version 1.26.4\n",
      "  warnings.warn(f\"A NumPy version >={np_minversion} and <{np_maxversion}\"\n"
     ]
    }
   ],
   "source": [
    "import pandas as pd\n",
    "import numpy as np\n",
    "import matplotlib.pyplot as plt\n",
    "import seaborn as sns "
   ]
  },
  {
   "cell_type": "markdown",
   "id": "12085060",
   "metadata": {},
   "source": [
    "# Load dataset"
   ]
  },
  {
   "cell_type": "code",
   "execution_count": 2,
   "id": "85bbdf92",
   "metadata": {},
   "outputs": [],
   "source": [
    "vehicle_data = pd.read_csv('vechile_price_dataset.csv')"
   ]
  },
  {
   "cell_type": "code",
   "execution_count": 3,
   "id": "42badaba",
   "metadata": {},
   "outputs": [
    {
     "data": {
      "text/html": [
       "<div>\n",
       "<style scoped>\n",
       "    .dataframe tbody tr th:only-of-type {\n",
       "        vertical-align: middle;\n",
       "    }\n",
       "\n",
       "    .dataframe tbody tr th {\n",
       "        vertical-align: top;\n",
       "    }\n",
       "\n",
       "    .dataframe thead th {\n",
       "        text-align: right;\n",
       "    }\n",
       "</style>\n",
       "<table border=\"1\" class=\"dataframe\">\n",
       "  <thead>\n",
       "    <tr style=\"text-align: right;\">\n",
       "      <th></th>\n",
       "      <th>Unnamed: 0</th>\n",
       "      <th>Make</th>\n",
       "      <th>Engine Fuel Type</th>\n",
       "      <th>Engine HP</th>\n",
       "      <th>Engine Cylinders</th>\n",
       "      <th>Transmission Type</th>\n",
       "      <th>Driven_Wheels</th>\n",
       "      <th>Vehicle Size</th>\n",
       "      <th>city mpg</th>\n",
       "      <th>Popularity</th>\n",
       "      <th>MSRP</th>\n",
       "    </tr>\n",
       "  </thead>\n",
       "  <tbody>\n",
       "    <tr>\n",
       "      <th>0</th>\n",
       "      <td>479</td>\n",
       "      <td>Toyota</td>\n",
       "      <td>regular unleaded</td>\n",
       "      <td>270.0</td>\n",
       "      <td>6.0</td>\n",
       "      <td>AUTOMATIC</td>\n",
       "      <td>rear wheel drive</td>\n",
       "      <td>Midsize</td>\n",
       "      <td>17</td>\n",
       "      <td>2031</td>\n",
       "      <td>41365</td>\n",
       "    </tr>\n",
       "    <tr>\n",
       "      <th>1</th>\n",
       "      <td>480</td>\n",
       "      <td>Toyota</td>\n",
       "      <td>regular unleaded</td>\n",
       "      <td>270.0</td>\n",
       "      <td>6.0</td>\n",
       "      <td>AUTOMATIC</td>\n",
       "      <td>rear wheel drive</td>\n",
       "      <td>Midsize</td>\n",
       "      <td>17</td>\n",
       "      <td>2031</td>\n",
       "      <td>35740</td>\n",
       "    </tr>\n",
       "    <tr>\n",
       "      <th>2</th>\n",
       "      <td>481</td>\n",
       "      <td>Toyota</td>\n",
       "      <td>regular unleaded</td>\n",
       "      <td>270.0</td>\n",
       "      <td>6.0</td>\n",
       "      <td>AUTOMATIC</td>\n",
       "      <td>four wheel drive</td>\n",
       "      <td>Midsize</td>\n",
       "      <td>17</td>\n",
       "      <td>2031</td>\n",
       "      <td>37615</td>\n",
       "    </tr>\n",
       "    <tr>\n",
       "      <th>3</th>\n",
       "      <td>482</td>\n",
       "      <td>Toyota</td>\n",
       "      <td>regular unleaded</td>\n",
       "      <td>270.0</td>\n",
       "      <td>6.0</td>\n",
       "      <td>AUTOMATIC</td>\n",
       "      <td>four wheel drive</td>\n",
       "      <td>Midsize</td>\n",
       "      <td>17</td>\n",
       "      <td>2031</td>\n",
       "      <td>34695</td>\n",
       "    </tr>\n",
       "    <tr>\n",
       "      <th>4</th>\n",
       "      <td>483</td>\n",
       "      <td>Toyota</td>\n",
       "      <td>regular unleaded</td>\n",
       "      <td>270.0</td>\n",
       "      <td>6.0</td>\n",
       "      <td>AUTOMATIC</td>\n",
       "      <td>four wheel drive</td>\n",
       "      <td>Midsize</td>\n",
       "      <td>17</td>\n",
       "      <td>2031</td>\n",
       "      <td>35725</td>\n",
       "    </tr>\n",
       "  </tbody>\n",
       "</table>\n",
       "</div>"
      ],
      "text/plain": [
       "   Unnamed: 0    Make  Engine Fuel Type  Engine HP  Engine Cylinders  \\\n",
       "0         479  Toyota  regular unleaded      270.0               6.0   \n",
       "1         480  Toyota  regular unleaded      270.0               6.0   \n",
       "2         481  Toyota  regular unleaded      270.0               6.0   \n",
       "3         482  Toyota  regular unleaded      270.0               6.0   \n",
       "4         483  Toyota  regular unleaded      270.0               6.0   \n",
       "\n",
       "  Transmission Type     Driven_Wheels Vehicle Size  city mpg  Popularity  \\\n",
       "0         AUTOMATIC  rear wheel drive      Midsize        17        2031   \n",
       "1         AUTOMATIC  rear wheel drive      Midsize        17        2031   \n",
       "2         AUTOMATIC  four wheel drive      Midsize        17        2031   \n",
       "3         AUTOMATIC  four wheel drive      Midsize        17        2031   \n",
       "4         AUTOMATIC  four wheel drive      Midsize        17        2031   \n",
       "\n",
       "    MSRP  \n",
       "0  41365  \n",
       "1  35740  \n",
       "2  37615  \n",
       "3  34695  \n",
       "4  35725  "
      ]
     },
     "execution_count": 3,
     "metadata": {},
     "output_type": "execute_result"
    }
   ],
   "source": [
    "vehicle_data.head()"
   ]
  },
  {
   "cell_type": "markdown",
   "id": "ece1ded5",
   "metadata": {},
   "source": [
    "# Data Size"
   ]
  },
  {
   "cell_type": "code",
   "execution_count": 4,
   "id": "4f80affc",
   "metadata": {},
   "outputs": [
    {
     "data": {
      "text/plain": [
       "(2112, 11)"
      ]
     },
     "execution_count": 4,
     "metadata": {},
     "output_type": "execute_result"
    }
   ],
   "source": [
    "vehicle_data.shape"
   ]
  },
  {
   "cell_type": "markdown",
   "id": "0c8f3ff8",
   "metadata": {},
   "source": [
    "# List of columns"
   ]
  },
  {
   "cell_type": "code",
   "execution_count": 5,
   "id": "ab5547a6",
   "metadata": {},
   "outputs": [
    {
     "data": {
      "text/plain": [
       "Index(['Unnamed: 0', 'Make', 'Engine Fuel Type', 'Engine HP',\n",
       "       'Engine Cylinders', 'Transmission Type', 'Driven_Wheels',\n",
       "       'Vehicle Size', 'city mpg', 'Popularity', 'MSRP'],\n",
       "      dtype='object')"
      ]
     },
     "execution_count": 5,
     "metadata": {},
     "output_type": "execute_result"
    }
   ],
   "source": [
    "vehicle_data.columns"
   ]
  },
  {
   "cell_type": "markdown",
   "id": "59b1654f",
   "metadata": {},
   "source": [
    "# Columns datatypes"
   ]
  },
  {
   "cell_type": "code",
   "execution_count": 6,
   "id": "c7caa899",
   "metadata": {},
   "outputs": [
    {
     "data": {
      "text/plain": [
       "Unnamed: 0             int64\n",
       "Make                  object\n",
       "Engine Fuel Type      object\n",
       "Engine HP            float64\n",
       "Engine Cylinders     float64\n",
       "Transmission Type     object\n",
       "Driven_Wheels         object\n",
       "Vehicle Size          object\n",
       "city mpg               int64\n",
       "Popularity             int64\n",
       "MSRP                   int64\n",
       "dtype: object"
      ]
     },
     "execution_count": 6,
     "metadata": {},
     "output_type": "execute_result"
    }
   ],
   "source": [
    "vehicle_data.dtypes"
   ]
  },
  {
   "cell_type": "markdown",
   "id": "f93597ee",
   "metadata": {},
   "source": [
    "# data information"
   ]
  },
  {
   "cell_type": "code",
   "execution_count": 7,
   "id": "56b4d785",
   "metadata": {},
   "outputs": [
    {
     "name": "stdout",
     "output_type": "stream",
     "text": [
      "<class 'pandas.core.frame.DataFrame'>\n",
      "RangeIndex: 2112 entries, 0 to 2111\n",
      "Data columns (total 11 columns):\n",
      " #   Column             Non-Null Count  Dtype  \n",
      "---  ------             --------------  -----  \n",
      " 0   Unnamed: 0         2112 non-null   int64  \n",
      " 1   Make               2112 non-null   object \n",
      " 2   Engine Fuel Type   2112 non-null   object \n",
      " 3   Engine HP          2097 non-null   float64\n",
      " 4   Engine Cylinders   2107 non-null   float64\n",
      " 5   Transmission Type  2112 non-null   object \n",
      " 6   Driven_Wheels      2112 non-null   object \n",
      " 7   Vehicle Size       2112 non-null   object \n",
      " 8   city mpg           2112 non-null   int64  \n",
      " 9   Popularity         2112 non-null   int64  \n",
      " 10  MSRP               2112 non-null   int64  \n",
      "dtypes: float64(2), int64(4), object(5)\n",
      "memory usage: 181.6+ KB\n"
     ]
    }
   ],
   "source": [
    "vehicle_data.info()"
   ]
  },
  {
   "cell_type": "markdown",
   "id": "838a4bb4",
   "metadata": {},
   "source": [
    "# Dropping Columns"
   ]
  },
  {
   "cell_type": "code",
   "execution_count": 8,
   "id": "8956a725",
   "metadata": {},
   "outputs": [],
   "source": [
    "vehicle_data=vehicle_data.drop(['Unnamed: 0'],axis=1)"
   ]
  },
  {
   "cell_type": "markdown",
   "id": "f127f6ae",
   "metadata": {},
   "source": [
    "# Rename Columns"
   ]
  },
  {
   "cell_type": "code",
   "execution_count": 9,
   "id": "e0bf7bb5",
   "metadata": {},
   "outputs": [
    {
     "data": {
      "text/html": [
       "<div>\n",
       "<style scoped>\n",
       "    .dataframe tbody tr th:only-of-type {\n",
       "        vertical-align: middle;\n",
       "    }\n",
       "\n",
       "    .dataframe tbody tr th {\n",
       "        vertical-align: top;\n",
       "    }\n",
       "\n",
       "    .dataframe thead th {\n",
       "        text-align: right;\n",
       "    }\n",
       "</style>\n",
       "<table border=\"1\" class=\"dataframe\">\n",
       "  <thead>\n",
       "    <tr style=\"text-align: right;\">\n",
       "      <th></th>\n",
       "      <th>Make</th>\n",
       "      <th>Fuel_Type</th>\n",
       "      <th>Power_HP</th>\n",
       "      <th>No_of_Cylinders</th>\n",
       "      <th>Transmission</th>\n",
       "      <th>Driven_Wheels</th>\n",
       "      <th>Vehicle_size</th>\n",
       "      <th>Mileage_mpg</th>\n",
       "      <th>Popularity</th>\n",
       "      <th>MSRP</th>\n",
       "    </tr>\n",
       "  </thead>\n",
       "  <tbody>\n",
       "    <tr>\n",
       "      <th>0</th>\n",
       "      <td>Toyota</td>\n",
       "      <td>regular unleaded</td>\n",
       "      <td>270.0</td>\n",
       "      <td>6.0</td>\n",
       "      <td>AUTOMATIC</td>\n",
       "      <td>rear wheel drive</td>\n",
       "      <td>Midsize</td>\n",
       "      <td>17</td>\n",
       "      <td>2031</td>\n",
       "      <td>41365</td>\n",
       "    </tr>\n",
       "    <tr>\n",
       "      <th>1</th>\n",
       "      <td>Toyota</td>\n",
       "      <td>regular unleaded</td>\n",
       "      <td>270.0</td>\n",
       "      <td>6.0</td>\n",
       "      <td>AUTOMATIC</td>\n",
       "      <td>rear wheel drive</td>\n",
       "      <td>Midsize</td>\n",
       "      <td>17</td>\n",
       "      <td>2031</td>\n",
       "      <td>35740</td>\n",
       "    </tr>\n",
       "    <tr>\n",
       "      <th>2</th>\n",
       "      <td>Toyota</td>\n",
       "      <td>regular unleaded</td>\n",
       "      <td>270.0</td>\n",
       "      <td>6.0</td>\n",
       "      <td>AUTOMATIC</td>\n",
       "      <td>four wheel drive</td>\n",
       "      <td>Midsize</td>\n",
       "      <td>17</td>\n",
       "      <td>2031</td>\n",
       "      <td>37615</td>\n",
       "    </tr>\n",
       "    <tr>\n",
       "      <th>3</th>\n",
       "      <td>Toyota</td>\n",
       "      <td>regular unleaded</td>\n",
       "      <td>270.0</td>\n",
       "      <td>6.0</td>\n",
       "      <td>AUTOMATIC</td>\n",
       "      <td>four wheel drive</td>\n",
       "      <td>Midsize</td>\n",
       "      <td>17</td>\n",
       "      <td>2031</td>\n",
       "      <td>34695</td>\n",
       "    </tr>\n",
       "    <tr>\n",
       "      <th>4</th>\n",
       "      <td>Toyota</td>\n",
       "      <td>regular unleaded</td>\n",
       "      <td>270.0</td>\n",
       "      <td>6.0</td>\n",
       "      <td>AUTOMATIC</td>\n",
       "      <td>four wheel drive</td>\n",
       "      <td>Midsize</td>\n",
       "      <td>17</td>\n",
       "      <td>2031</td>\n",
       "      <td>35725</td>\n",
       "    </tr>\n",
       "  </tbody>\n",
       "</table>\n",
       "</div>"
      ],
      "text/plain": [
       "     Make         Fuel_Type  Power_HP  No_of_Cylinders Transmission  \\\n",
       "0  Toyota  regular unleaded     270.0              6.0    AUTOMATIC   \n",
       "1  Toyota  regular unleaded     270.0              6.0    AUTOMATIC   \n",
       "2  Toyota  regular unleaded     270.0              6.0    AUTOMATIC   \n",
       "3  Toyota  regular unleaded     270.0              6.0    AUTOMATIC   \n",
       "4  Toyota  regular unleaded     270.0              6.0    AUTOMATIC   \n",
       "\n",
       "      Driven_Wheels Vehicle_size  Mileage_mpg  Popularity   MSRP  \n",
       "0  rear wheel drive      Midsize           17        2031  41365  \n",
       "1  rear wheel drive      Midsize           17        2031  35740  \n",
       "2  four wheel drive      Midsize           17        2031  37615  \n",
       "3  four wheel drive      Midsize           17        2031  34695  \n",
       "4  four wheel drive      Midsize           17        2031  35725  "
      ]
     },
     "execution_count": 9,
     "metadata": {},
     "output_type": "execute_result"
    }
   ],
   "source": [
    "vehicle_data1 = vehicle_data.rename(columns={\n",
    "    'Engine Fuel Type': 'Fuel_Type',\n",
    "    'Engine HP': 'Power_HP',\n",
    "    'Engine Cylinders': 'No_of_Cylinders',\n",
    "    'Transmission Type': 'Transmission',\n",
    "    'Vehicle Size': 'Vehicle_size',\n",
    "    'city mpg': 'Mileage_mpg'})\n",
    "\n",
    "vehicle_data1.head()"
   ]
  },
  {
   "cell_type": "code",
   "execution_count": 10,
   "id": "ec286396",
   "metadata": {},
   "outputs": [
    {
     "data": {
      "text/plain": [
       "Index(['Make', 'Fuel_Type', 'Power_HP', 'No_of_Cylinders', 'Transmission',\n",
       "       'Driven_Wheels', 'Vehicle_size', 'Mileage_mpg', 'Popularity', 'MSRP'],\n",
       "      dtype='object')"
      ]
     },
     "execution_count": 10,
     "metadata": {},
     "output_type": "execute_result"
    }
   ],
   "source": [
    "vehicle_data1.columns"
   ]
  },
  {
   "cell_type": "markdown",
   "id": "4806e99f",
   "metadata": {},
   "source": [
    "# check for duplicate records"
   ]
  },
  {
   "cell_type": "code",
   "execution_count": 11,
   "id": "e04e5215",
   "metadata": {},
   "outputs": [
    {
     "data": {
      "text/html": [
       "<div>\n",
       "<style scoped>\n",
       "    .dataframe tbody tr th:only-of-type {\n",
       "        vertical-align: middle;\n",
       "    }\n",
       "\n",
       "    .dataframe tbody tr th {\n",
       "        vertical-align: top;\n",
       "    }\n",
       "\n",
       "    .dataframe thead th {\n",
       "        text-align: right;\n",
       "    }\n",
       "</style>\n",
       "<table border=\"1\" class=\"dataframe\">\n",
       "  <thead>\n",
       "    <tr style=\"text-align: right;\">\n",
       "      <th></th>\n",
       "      <th>Make</th>\n",
       "      <th>Fuel_Type</th>\n",
       "      <th>Power_HP</th>\n",
       "      <th>No_of_Cylinders</th>\n",
       "      <th>Transmission</th>\n",
       "      <th>Driven_Wheels</th>\n",
       "      <th>Vehicle_size</th>\n",
       "      <th>Mileage_mpg</th>\n",
       "      <th>Popularity</th>\n",
       "      <th>MSRP</th>\n",
       "    </tr>\n",
       "  </thead>\n",
       "  <tbody>\n",
       "    <tr>\n",
       "      <th>1</th>\n",
       "      <td>Toyota</td>\n",
       "      <td>regular unleaded</td>\n",
       "      <td>270.0</td>\n",
       "      <td>6.0</td>\n",
       "      <td>AUTOMATIC</td>\n",
       "      <td>rear wheel drive</td>\n",
       "      <td>Midsize</td>\n",
       "      <td>17</td>\n",
       "      <td>2031</td>\n",
       "      <td>35740</td>\n",
       "    </tr>\n",
       "    <tr>\n",
       "      <th>3</th>\n",
       "      <td>Toyota</td>\n",
       "      <td>regular unleaded</td>\n",
       "      <td>270.0</td>\n",
       "      <td>6.0</td>\n",
       "      <td>AUTOMATIC</td>\n",
       "      <td>four wheel drive</td>\n",
       "      <td>Midsize</td>\n",
       "      <td>17</td>\n",
       "      <td>2031</td>\n",
       "      <td>34695</td>\n",
       "    </tr>\n",
       "    <tr>\n",
       "      <th>4</th>\n",
       "      <td>Toyota</td>\n",
       "      <td>regular unleaded</td>\n",
       "      <td>270.0</td>\n",
       "      <td>6.0</td>\n",
       "      <td>AUTOMATIC</td>\n",
       "      <td>four wheel drive</td>\n",
       "      <td>Midsize</td>\n",
       "      <td>17</td>\n",
       "      <td>2031</td>\n",
       "      <td>35725</td>\n",
       "    </tr>\n",
       "    <tr>\n",
       "      <th>5</th>\n",
       "      <td>Toyota</td>\n",
       "      <td>regular unleaded</td>\n",
       "      <td>270.0</td>\n",
       "      <td>6.0</td>\n",
       "      <td>AUTOMATIC</td>\n",
       "      <td>four wheel drive</td>\n",
       "      <td>Midsize</td>\n",
       "      <td>17</td>\n",
       "      <td>2031</td>\n",
       "      <td>43400</td>\n",
       "    </tr>\n",
       "    <tr>\n",
       "      <th>6</th>\n",
       "      <td>Toyota</td>\n",
       "      <td>regular unleaded</td>\n",
       "      <td>270.0</td>\n",
       "      <td>6.0</td>\n",
       "      <td>AUTOMATIC</td>\n",
       "      <td>rear wheel drive</td>\n",
       "      <td>Midsize</td>\n",
       "      <td>17</td>\n",
       "      <td>2031</td>\n",
       "      <td>32820</td>\n",
       "    </tr>\n",
       "    <tr>\n",
       "      <th>...</th>\n",
       "      <td>...</td>\n",
       "      <td>...</td>\n",
       "      <td>...</td>\n",
       "      <td>...</td>\n",
       "      <td>...</td>\n",
       "      <td>...</td>\n",
       "      <td>...</td>\n",
       "      <td>...</td>\n",
       "      <td>...</td>\n",
       "      <td>...</td>\n",
       "    </tr>\n",
       "    <tr>\n",
       "      <th>2107</th>\n",
       "      <td>Toyota</td>\n",
       "      <td>regular unleaded</td>\n",
       "      <td>106.0</td>\n",
       "      <td>4.0</td>\n",
       "      <td>MANUAL</td>\n",
       "      <td>front wheel drive</td>\n",
       "      <td>Compact</td>\n",
       "      <td>30</td>\n",
       "      <td>2031</td>\n",
       "      <td>15250</td>\n",
       "    </tr>\n",
       "    <tr>\n",
       "      <th>2108</th>\n",
       "      <td>Toyota</td>\n",
       "      <td>regular unleaded</td>\n",
       "      <td>106.0</td>\n",
       "      <td>4.0</td>\n",
       "      <td>AUTOMATIC</td>\n",
       "      <td>front wheel drive</td>\n",
       "      <td>Compact</td>\n",
       "      <td>30</td>\n",
       "      <td>2031</td>\n",
       "      <td>16375</td>\n",
       "    </tr>\n",
       "    <tr>\n",
       "      <th>2109</th>\n",
       "      <td>Toyota</td>\n",
       "      <td>regular unleaded</td>\n",
       "      <td>106.0</td>\n",
       "      <td>4.0</td>\n",
       "      <td>AUTOMATIC</td>\n",
       "      <td>front wheel drive</td>\n",
       "      <td>Compact</td>\n",
       "      <td>30</td>\n",
       "      <td>2031</td>\n",
       "      <td>17285</td>\n",
       "    </tr>\n",
       "    <tr>\n",
       "      <th>2110</th>\n",
       "      <td>Toyota</td>\n",
       "      <td>regular unleaded</td>\n",
       "      <td>106.0</td>\n",
       "      <td>4.0</td>\n",
       "      <td>AUTOMATIC</td>\n",
       "      <td>front wheel drive</td>\n",
       "      <td>Compact</td>\n",
       "      <td>30</td>\n",
       "      <td>2031</td>\n",
       "      <td>18000</td>\n",
       "    </tr>\n",
       "    <tr>\n",
       "      <th>2111</th>\n",
       "      <td>Toyota</td>\n",
       "      <td>regular unleaded</td>\n",
       "      <td>106.0</td>\n",
       "      <td>4.0</td>\n",
       "      <td>MANUAL</td>\n",
       "      <td>front wheel drive</td>\n",
       "      <td>Compact</td>\n",
       "      <td>30</td>\n",
       "      <td>2031</td>\n",
       "      <td>17200</td>\n",
       "    </tr>\n",
       "  </tbody>\n",
       "</table>\n",
       "<p>1706 rows × 10 columns</p>\n",
       "</div>"
      ],
      "text/plain": [
       "        Make         Fuel_Type  Power_HP  No_of_Cylinders Transmission  \\\n",
       "1     Toyota  regular unleaded     270.0              6.0    AUTOMATIC   \n",
       "3     Toyota  regular unleaded     270.0              6.0    AUTOMATIC   \n",
       "4     Toyota  regular unleaded     270.0              6.0    AUTOMATIC   \n",
       "5     Toyota  regular unleaded     270.0              6.0    AUTOMATIC   \n",
       "6     Toyota  regular unleaded     270.0              6.0    AUTOMATIC   \n",
       "...      ...               ...       ...              ...          ...   \n",
       "2107  Toyota  regular unleaded     106.0              4.0       MANUAL   \n",
       "2108  Toyota  regular unleaded     106.0              4.0    AUTOMATIC   \n",
       "2109  Toyota  regular unleaded     106.0              4.0    AUTOMATIC   \n",
       "2110  Toyota  regular unleaded     106.0              4.0    AUTOMATIC   \n",
       "2111  Toyota  regular unleaded     106.0              4.0       MANUAL   \n",
       "\n",
       "          Driven_Wheels Vehicle_size  Mileage_mpg  Popularity   MSRP  \n",
       "1      rear wheel drive      Midsize           17        2031  35740  \n",
       "3      four wheel drive      Midsize           17        2031  34695  \n",
       "4      four wheel drive      Midsize           17        2031  35725  \n",
       "5      four wheel drive      Midsize           17        2031  43400  \n",
       "6      rear wheel drive      Midsize           17        2031  32820  \n",
       "...                 ...          ...          ...         ...    ...  \n",
       "2107  front wheel drive      Compact           30        2031  15250  \n",
       "2108  front wheel drive      Compact           30        2031  16375  \n",
       "2109  front wheel drive      Compact           30        2031  17285  \n",
       "2110  front wheel drive      Compact           30        2031  18000  \n",
       "2111  front wheel drive      Compact           30        2031  17200  \n",
       "\n",
       "[1706 rows x 10 columns]"
      ]
     },
     "execution_count": 11,
     "metadata": {},
     "output_type": "execute_result"
    }
   ],
   "source": [
    "vehicle_data1[vehicle_data1.duplicated(subset = ['Make','Fuel_Type','Power_HP','No_of_Cylinders','Transmission',\n",
    "       'Driven_Wheels', 'Vehicle_size', 'Mileage_mpg', 'Popularity'],keep ='first')]"
   ]
  },
  {
   "cell_type": "markdown",
   "id": "dc8c5562",
   "metadata": {},
   "source": [
    "# Drop Duplicate Records"
   ]
  },
  {
   "cell_type": "code",
   "execution_count": 12,
   "id": "222ac510",
   "metadata": {},
   "outputs": [],
   "source": [
    "vehicle_data2 = vehicle_data1.drop_duplicates(subset = ['Make','Fuel_Type','Power_HP','No_of_Cylinders','Transmission',\n",
    "       'Driven_Wheels', 'Vehicle_size', 'Mileage_mpg', 'Popularity'],keep ='first')"
   ]
  },
  {
   "cell_type": "code",
   "execution_count": 13,
   "id": "99250407",
   "metadata": {},
   "outputs": [
    {
     "data": {
      "text/plain": [
       "(406, 10)"
      ]
     },
     "execution_count": 13,
     "metadata": {},
     "output_type": "execute_result"
    }
   ],
   "source": [
    "vehicle_data2.shape"
   ]
  },
  {
   "cell_type": "markdown",
   "id": "33932751",
   "metadata": {},
   "source": [
    "# checking for null/missing values"
   ]
  },
  {
   "cell_type": "code",
   "execution_count": 14,
   "id": "0dc56d20",
   "metadata": {},
   "outputs": [
    {
     "data": {
      "text/plain": [
       "Make               0\n",
       "Fuel_Type          0\n",
       "Power_HP           5\n",
       "No_of_Cylinders    2\n",
       "Transmission       0\n",
       "Driven_Wheels      0\n",
       "Vehicle_size       0\n",
       "Mileage_mpg        0\n",
       "Popularity         0\n",
       "MSRP               0\n",
       "dtype: int64"
      ]
     },
     "execution_count": 14,
     "metadata": {},
     "output_type": "execute_result"
    }
   ],
   "source": [
    "vehicle_data2.isnull().sum()"
   ]
  },
  {
   "cell_type": "markdown",
   "id": "431a3f31",
   "metadata": {},
   "source": [
    "# Missing Value Imputation"
   ]
  },
  {
   "cell_type": "code",
   "execution_count": 15,
   "id": "6641aaf3",
   "metadata": {},
   "outputs": [
    {
     "data": {
      "text/plain": [
       "214.00498753117208"
      ]
     },
     "execution_count": 15,
     "metadata": {},
     "output_type": "execute_result"
    }
   ],
   "source": [
    "power_mean = vehicle_data2['Power_HP'].mean()\n",
    "power_mean\n"
   ]
  },
  {
   "cell_type": "code",
   "execution_count": 16,
   "id": "711da22d",
   "metadata": {},
   "outputs": [
    {
     "data": {
      "text/plain": [
       "4.0"
      ]
     },
     "execution_count": 16,
     "metadata": {},
     "output_type": "execute_result"
    }
   ],
   "source": [
    "cylinder_mode = vehicle_data2[ 'No_of_Cylinders'].mode()\n",
    "cylinder_mode[0]"
   ]
  },
  {
   "cell_type": "code",
   "execution_count": 17,
   "id": "ad92671e",
   "metadata": {},
   "outputs": [
    {
     "name": "stderr",
     "output_type": "stream",
     "text": [
      "C:\\Users\\SRUJAN\\AppData\\Local\\Temp\\ipykernel_16508\\1352498886.py:1: SettingWithCopyWarning: \n",
      "A value is trying to be set on a copy of a slice from a DataFrame.\n",
      "Try using .loc[row_indexer,col_indexer] = value instead\n",
      "\n",
      "See the caveats in the documentation: https://pandas.pydata.org/pandas-docs/stable/user_guide/indexing.html#returning-a-view-versus-a-copy\n",
      "  vehicle_data2['Power_HP'] = vehicle_data2['Power_HP'].fillna(power_mean)\n",
      "C:\\Users\\SRUJAN\\AppData\\Local\\Temp\\ipykernel_16508\\1352498886.py:2: SettingWithCopyWarning: \n",
      "A value is trying to be set on a copy of a slice from a DataFrame.\n",
      "Try using .loc[row_indexer,col_indexer] = value instead\n",
      "\n",
      "See the caveats in the documentation: https://pandas.pydata.org/pandas-docs/stable/user_guide/indexing.html#returning-a-view-versus-a-copy\n",
      "  vehicle_data2['No_of_cylinders'] = vehicle_data2['No_of_Cylinders'].fillna(cylinder_mode[0])\n"
     ]
    }
   ],
   "source": [
    "vehicle_data2['Power_HP'] = vehicle_data2['Power_HP'].fillna(power_mean)\n",
    "vehicle_data2['No_of_cylinders'] = vehicle_data2['No_of_Cylinders'].fillna(cylinder_mode[0])"
   ]
  },
  {
   "cell_type": "code",
   "execution_count": 18,
   "id": "c6050268-d4a9-4d25-88a7-b439fbb6b23c",
   "metadata": {},
   "outputs": [],
   "source": [
    "vehicle_data2.loc[vehicle_data2['Power_HP'].isna(), 'Power_HP'] = power_mean\n",
    "\n",
    "vehicle_data2.loc[vehicle_data2['No_of_Cylinders'].isna(), 'No_of_Cylinders'] = cylinder_mode[0]\n"
   ]
  },
  {
   "cell_type": "code",
   "execution_count": 19,
   "id": "d5525389",
   "metadata": {},
   "outputs": [
    {
     "data": {
      "text/plain": [
       "Make               0\n",
       "Fuel_Type          0\n",
       "Power_HP           0\n",
       "No_of_Cylinders    0\n",
       "Transmission       0\n",
       "Driven_Wheels      0\n",
       "Vehicle_size       0\n",
       "Mileage_mpg        0\n",
       "Popularity         0\n",
       "MSRP               0\n",
       "No_of_cylinders    0\n",
       "dtype: int64"
      ]
     },
     "execution_count": 19,
     "metadata": {},
     "output_type": "execute_result"
    }
   ],
   "source": [
    "vehicle_data2.isnull().sum()"
   ]
  },
  {
   "cell_type": "markdown",
   "id": "012fb71b",
   "metadata": {},
   "source": [
    "# EDA(Exploratory Data Analysis) "
   ]
  },
  {
   "cell_type": "code",
   "execution_count": 20,
   "id": "c221d00b",
   "metadata": {},
   "outputs": [
    {
     "data": {
      "text/html": [
       "<div>\n",
       "<style scoped>\n",
       "    .dataframe tbody tr th:only-of-type {\n",
       "        vertical-align: middle;\n",
       "    }\n",
       "\n",
       "    .dataframe tbody tr th {\n",
       "        vertical-align: top;\n",
       "    }\n",
       "\n",
       "    .dataframe thead th {\n",
       "        text-align: right;\n",
       "    }\n",
       "</style>\n",
       "<table border=\"1\" class=\"dataframe\">\n",
       "  <thead>\n",
       "    <tr style=\"text-align: right;\">\n",
       "      <th></th>\n",
       "      <th>Power_HP</th>\n",
       "      <th>No_of_Cylinders</th>\n",
       "      <th>Mileage_mpg</th>\n",
       "      <th>Popularity</th>\n",
       "      <th>MSRP</th>\n",
       "      <th>No_of_cylinders</th>\n",
       "    </tr>\n",
       "  </thead>\n",
       "  <tbody>\n",
       "    <tr>\n",
       "      <th>count</th>\n",
       "      <td>406.000000</td>\n",
       "      <td>406.000000</td>\n",
       "      <td>406.000000</td>\n",
       "      <td>406.000000</td>\n",
       "      <td>406.000000</td>\n",
       "      <td>406.000000</td>\n",
       "    </tr>\n",
       "    <tr>\n",
       "      <th>mean</th>\n",
       "      <td>214.004988</td>\n",
       "      <td>5.295567</td>\n",
       "      <td>20.928571</td>\n",
       "      <td>3377.679803</td>\n",
       "      <td>25534.371921</td>\n",
       "      <td>5.295567</td>\n",
       "    </tr>\n",
       "    <tr>\n",
       "      <th>std</th>\n",
       "      <td>84.009523</td>\n",
       "      <td>1.548023</td>\n",
       "      <td>10.734843</td>\n",
       "      <td>2121.244431</td>\n",
       "      <td>17135.324044</td>\n",
       "      <td>1.548023</td>\n",
       "    </tr>\n",
       "    <tr>\n",
       "      <th>min</th>\n",
       "      <td>63.000000</td>\n",
       "      <td>0.000000</td>\n",
       "      <td>11.000000</td>\n",
       "      <td>873.000000</td>\n",
       "      <td>2000.000000</td>\n",
       "      <td>0.000000</td>\n",
       "    </tr>\n",
       "    <tr>\n",
       "      <th>25%</th>\n",
       "      <td>154.250000</td>\n",
       "      <td>4.000000</td>\n",
       "      <td>15.000000</td>\n",
       "      <td>873.000000</td>\n",
       "      <td>18148.750000</td>\n",
       "      <td>4.000000</td>\n",
       "    </tr>\n",
       "    <tr>\n",
       "      <th>50%</th>\n",
       "      <td>200.000000</td>\n",
       "      <td>5.000000</td>\n",
       "      <td>19.000000</td>\n",
       "      <td>2031.000000</td>\n",
       "      <td>25895.000000</td>\n",
       "      <td>5.000000</td>\n",
       "    </tr>\n",
       "    <tr>\n",
       "      <th>75%</th>\n",
       "      <td>266.000000</td>\n",
       "      <td>6.000000</td>\n",
       "      <td>23.000000</td>\n",
       "      <td>5657.000000</td>\n",
       "      <td>32250.000000</td>\n",
       "      <td>6.000000</td>\n",
       "    </tr>\n",
       "    <tr>\n",
       "      <th>max</th>\n",
       "      <td>662.000000</td>\n",
       "      <td>12.000000</td>\n",
       "      <td>126.000000</td>\n",
       "      <td>5657.000000</td>\n",
       "      <td>149995.000000</td>\n",
       "      <td>12.000000</td>\n",
       "    </tr>\n",
       "  </tbody>\n",
       "</table>\n",
       "</div>"
      ],
      "text/plain": [
       "         Power_HP  No_of_Cylinders  Mileage_mpg   Popularity           MSRP  \\\n",
       "count  406.000000       406.000000   406.000000   406.000000     406.000000   \n",
       "mean   214.004988         5.295567    20.928571  3377.679803   25534.371921   \n",
       "std     84.009523         1.548023    10.734843  2121.244431   17135.324044   \n",
       "min     63.000000         0.000000    11.000000   873.000000    2000.000000   \n",
       "25%    154.250000         4.000000    15.000000   873.000000   18148.750000   \n",
       "50%    200.000000         5.000000    19.000000  2031.000000   25895.000000   \n",
       "75%    266.000000         6.000000    23.000000  5657.000000   32250.000000   \n",
       "max    662.000000        12.000000   126.000000  5657.000000  149995.000000   \n",
       "\n",
       "       No_of_cylinders  \n",
       "count       406.000000  \n",
       "mean          5.295567  \n",
       "std           1.548023  \n",
       "min           0.000000  \n",
       "25%           4.000000  \n",
       "50%           5.000000  \n",
       "75%           6.000000  \n",
       "max          12.000000  "
      ]
     },
     "execution_count": 20,
     "metadata": {},
     "output_type": "execute_result"
    }
   ],
   "source": [
    "vehicle_data2.describe()"
   ]
  },
  {
   "cell_type": "code",
   "execution_count": 21,
   "id": "a8dbcc75",
   "metadata": {},
   "outputs": [
    {
     "data": {
      "text/plain": [
       "Ford          184\n",
       "Toyota        118\n",
       "Volkswagen    104\n",
       "Name: Make, dtype: int64"
      ]
     },
     "execution_count": 21,
     "metadata": {},
     "output_type": "execute_result"
    }
   ],
   "source": [
    "vehicle_data2.Make.value_counts()"
   ]
  },
  {
   "cell_type": "code",
   "execution_count": 22,
   "id": "649c373c",
   "metadata": {},
   "outputs": [
    {
     "data": {
      "text/plain": [
       "<AxesSubplot:>"
      ]
     },
     "execution_count": 22,
     "metadata": {},
     "output_type": "execute_result"
    },
    {
     "data": {
      "image/png": "[encoded data removed]",
      "text/plain": [
       "<Figure size 432x288 with 1 Axes>"
      ]
     },
     "metadata": {
      "needs_background": "light"
     },
     "output_type": "display_data"
    }
   ],
   "source": [
    "vehicle_data2.Make.value_counts().plot(kind='bar')"
   ]
  },
  {
   "cell_type": "code",
   "execution_count": 23,
   "id": "4fec2fd1",
   "metadata": {},
   "outputs": [
    {
     "data": {
      "text/plain": [
       "Index(['Make', 'Fuel_Type', 'Power_HP', 'No_of_Cylinders', 'Transmission',\n",
       "       'Driven_Wheels', 'Vehicle_size', 'Mileage_mpg', 'Popularity', 'MSRP',\n",
       "       'No_of_cylinders'],\n",
       "      dtype='object')"
      ]
     },
     "execution_count": 23,
     "metadata": {},
     "output_type": "execute_result"
    }
   ],
   "source": [
    "vehicle_data2.columns"
   ]
  },
  {
   "cell_type": "code",
   "execution_count": 24,
   "id": "c8b8c7a2",
   "metadata": {},
   "outputs": [
    {
     "data": {
      "text/plain": [
       "<AxesSubplot:>"
      ]
     },
     "execution_count": 24,
     "metadata": {},
     "output_type": "execute_result"
    },
    {
     "data": {
      "image/png": "[encoded data removed]",
      "text/plain": [
       "<Figure size 432x288 with 1 Axes>"
      ]
     },
     "metadata": {
      "needs_background": "light"
     },
     "output_type": "display_data"
    }
   ],
   "source": [
    "vehicle_data2.Fuel_Type.value_counts().plot(kind = 'bar')"
   ]
  },
  {
   "cell_type": "code",
   "execution_count": 25,
   "id": "66a965ff",
   "metadata": {},
   "outputs": [
    {
     "data": {
      "text/plain": [
       "<AxesSubplot:>"
      ]
     },
     "execution_count": 25,
     "metadata": {},
     "output_type": "execute_result"
    },
    {
     "data": {
      "image/png": "[encoded data removed]",
      "text/plain": [
       "<Figure size 432x288 with 1 Axes>"
      ]
     },
     "metadata": {
      "needs_background": "light"
     },
     "output_type": "display_data"
    }
   ],
   "source": [
    "vehicle_data2.Transmission.value_counts().plot(kind = 'bar')"
   ]
  },
  {
   "cell_type": "code",
   "execution_count": 26,
   "id": "41173c10",
   "metadata": {},
   "outputs": [
    {
     "data": {
      "text/plain": [
       "<AxesSubplot:>"
      ]
     },
     "execution_count": 26,
     "metadata": {},
     "output_type": "execute_result"
    },
    {
     "data": {
      "image/png": "[encoded data removed]",
      "text/plain": [
       "<Figure size 432x288 with 1 Axes>"
      ]
     },
     "metadata": {
      "needs_background": "light"
     },
     "output_type": "display_data"
    }
   ],
   "source": [
    "vehicle_data2.Vehicle_size.value_counts().plot(kind = 'bar')"
   ]
  },
  {
   "cell_type": "code",
   "execution_count": 27,
   "id": "fa69abee",
   "metadata": {},
   "outputs": [
    {
     "data": {
      "text/plain": [
       "<AxesSubplot:>"
      ]
     },
     "execution_count": 27,
     "metadata": {},
     "output_type": "execute_result"
    },
    {
     "data": {
      "image/png": "[encoded data removed]",
      "text/plain": [
       "<Figure size 432x288 with 1 Axes>"
      ]
     },
     "metadata": {
      "needs_background": "light"
     },
     "output_type": "display_data"
    }
   ],
   "source": [
    "vehicle_data2.Driven_Wheels.value_counts().plot(kind ='bar')"
   ]
  },
  {
   "cell_type": "code",
   "execution_count": 28,
   "id": "fe670622",
   "metadata": {},
   "outputs": [
    {
     "data": {
      "text/plain": [
       "<AxesSubplot:ylabel='Frequency'>"
      ]
     },
     "execution_count": 28,
     "metadata": {},
     "output_type": "execute_result"
    },
    {
     "data": {
      "image/png": "[encoded data removed]",
      "text/plain": [
       "<Figure size 432x288 with 1 Axes>"
      ]
     },
     "metadata": {
      "needs_background": "light"
     },
     "output_type": "display_data"
    }
   ],
   "source": [
    "vehicle_data2['Mileage_mpg'].plot(kind = 'hist')"
   ]
  },
  {
   "cell_type": "code",
   "execution_count": 29,
   "id": "9c3856b4",
   "metadata": {},
   "outputs": [
    {
     "data": {
      "text/plain": [
       "<AxesSubplot:ylabel='Frequency'>"
      ]
     },
     "execution_count": 29,
     "metadata": {},
     "output_type": "execute_result"
    },
    {
     "data": {
      "image/png": "[encoded data removed]",
      "text/plain": [
       "<Figure size 432x288 with 1 Axes>"
      ]
     },
     "metadata": {
      "needs_background": "light"
     },
     "output_type": "display_data"
    }
   ],
   "source": [
    "vehicle_data2['Popularity'].plot(kind ='hist')"
   ]
  },
  {
   "cell_type": "code",
   "execution_count": 30,
   "id": "0bb2b34a",
   "metadata": {},
   "outputs": [
    {
     "data": {
      "text/plain": [
       "<AxesSubplot:ylabel='Frequency'>"
      ]
     },
     "execution_count": 30,
     "metadata": {},
     "output_type": "execute_result"
    },
    {
     "data": {
      "image/png": "[encoded data removed]",
      "text/plain": [
       "<Figure size 432x288 with 1 Axes>"
      ]
     },
     "metadata": {
      "needs_background": "light"
     },
     "output_type": "display_data"
    }
   ],
   "source": [
    "vehicle_data2['MSRP'].plot(kind = 'hist')"
   ]
  },
  {
   "cell_type": "markdown",
   "id": "3373284e",
   "metadata": {},
   "source": [
    "# Data Preprocessing"
   ]
  },
  {
   "cell_type": "markdown",
   "id": "32f5e513",
   "metadata": {},
   "source": [
    "Label Encoding:"
   ]
  },
  {
   "cell_type": "code",
   "execution_count": 31,
   "id": "4f72870e",
   "metadata": {},
   "outputs": [
    {
     "data": {
      "text/plain": [
       "Index(['Make', 'Fuel_Type', 'Power_HP', 'No_of_Cylinders', 'Transmission',\n",
       "       'Driven_Wheels', 'Vehicle_size', 'Mileage_mpg', 'Popularity', 'MSRP',\n",
       "       'No_of_cylinders'],\n",
       "      dtype='object')"
      ]
     },
     "execution_count": 31,
     "metadata": {},
     "output_type": "execute_result"
    }
   ],
   "source": [
    "vehicle_data2.columns"
   ]
  },
  {
   "cell_type": "code",
   "execution_count": 32,
   "id": "139844ff",
   "metadata": {},
   "outputs": [],
   "source": [
    "from sklearn.preprocessing import LabelEncoder\n",
    "Le = LabelEncoder()"
   ]
  },
  {
   "cell_type": "code",
   "execution_count": 33,
   "id": "d66a00a7",
   "metadata": {},
   "outputs": [
    {
     "name": "stderr",
     "output_type": "stream",
     "text": [
      "C:\\Users\\SRUJAN\\AppData\\Local\\Temp\\ipykernel_16508\\1144891498.py:1: SettingWithCopyWarning: \n",
      "A value is trying to be set on a copy of a slice from a DataFrame.\n",
      "Try using .loc[row_indexer,col_indexer] = value instead\n",
      "\n",
      "See the caveats in the documentation: https://pandas.pydata.org/pandas-docs/stable/user_guide/indexing.html#returning-a-view-versus-a-copy\n",
      "  vehicle_data2['Make'] = Le.fit_transform(vehicle_data2[ 'Make'])\n",
      "C:\\Users\\SRUJAN\\AppData\\Local\\Temp\\ipykernel_16508\\1144891498.py:2: SettingWithCopyWarning: \n",
      "A value is trying to be set on a copy of a slice from a DataFrame.\n",
      "Try using .loc[row_indexer,col_indexer] = value instead\n",
      "\n",
      "See the caveats in the documentation: https://pandas.pydata.org/pandas-docs/stable/user_guide/indexing.html#returning-a-view-versus-a-copy\n",
      "  vehicle_data2['Fuel_Type'] = Le.fit_transform(vehicle_data2['Fuel_Type'])\n",
      "C:\\Users\\SRUJAN\\AppData\\Local\\Temp\\ipykernel_16508\\1144891498.py:3: SettingWithCopyWarning: \n",
      "A value is trying to be set on a copy of a slice from a DataFrame.\n",
      "Try using .loc[row_indexer,col_indexer] = value instead\n",
      "\n",
      "See the caveats in the documentation: https://pandas.pydata.org/pandas-docs/stable/user_guide/indexing.html#returning-a-view-versus-a-copy\n",
      "  vehicle_data2 ['Transmission'] = Le.fit_transform(vehicle_data2['Transmission'])\n",
      "C:\\Users\\SRUJAN\\AppData\\Local\\Temp\\ipykernel_16508\\1144891498.py:4: SettingWithCopyWarning: \n",
      "A value is trying to be set on a copy of a slice from a DataFrame.\n",
      "Try using .loc[row_indexer,col_indexer] = value instead\n",
      "\n",
      "See the caveats in the documentation: https://pandas.pydata.org/pandas-docs/stable/user_guide/indexing.html#returning-a-view-versus-a-copy\n",
      "  vehicle_data2['Driven_Wheels'] = Le.fit_transform(vehicle_data2['Driven_Wheels'])\n",
      "C:\\Users\\SRUJAN\\AppData\\Local\\Temp\\ipykernel_16508\\1144891498.py:5: SettingWithCopyWarning: \n",
      "A value is trying to be set on a copy of a slice from a DataFrame.\n",
      "Try using .loc[row_indexer,col_indexer] = value instead\n",
      "\n",
      "See the caveats in the documentation: https://pandas.pydata.org/pandas-docs/stable/user_guide/indexing.html#returning-a-view-versus-a-copy\n",
      "  vehicle_data2['Vehicle_size'] = Le.fit_transform(vehicle_data2[ 'Vehicle_size'])\n"
     ]
    }
   ],
   "source": [
    "vehicle_data2['Make'] = Le.fit_transform(vehicle_data2[ 'Make'])\n",
    "vehicle_data2['Fuel_Type'] = Le.fit_transform(vehicle_data2['Fuel_Type'])\n",
    "vehicle_data2 ['Transmission'] = Le.fit_transform(vehicle_data2['Transmission'])\n",
    "vehicle_data2['Driven_Wheels'] = Le.fit_transform(vehicle_data2['Driven_Wheels'])\n",
    "vehicle_data2['Vehicle_size'] = Le.fit_transform(vehicle_data2[ 'Vehicle_size'])"
   ]
  },
  {
   "cell_type": "code",
   "execution_count": 34,
   "id": "6ac35d38-849f-4614-8f7e-cc2857fc0dda",
   "metadata": {},
   "outputs": [
    {
     "name": "stderr",
     "output_type": "stream",
     "text": [
      "C:\\Users\\SRUJAN\\AppData\\Local\\Temp\\ipykernel_16508\\1706172775.py:1: SettingWithCopyWarning: \n",
      "A value is trying to be set on a copy of a slice from a DataFrame.\n",
      "Try using .loc[row_indexer,col_indexer] = value instead\n",
      "\n",
      "See the caveats in the documentation: https://pandas.pydata.org/pandas-docs/stable/user_guide/indexing.html#returning-a-view-versus-a-copy\n",
      "  vehicle_data2.loc[:, 'Make'] = Le.fit_transform(vehicle_data2.loc[:, 'Make'])\n",
      "C:\\Users\\SRUJAN\\AppData\\Local\\Temp\\ipykernel_16508\\1706172775.py:3: SettingWithCopyWarning: \n",
      "A value is trying to be set on a copy of a slice from a DataFrame.\n",
      "Try using .loc[row_indexer,col_indexer] = value instead\n",
      "\n",
      "See the caveats in the documentation: https://pandas.pydata.org/pandas-docs/stable/user_guide/indexing.html#returning-a-view-versus-a-copy\n",
      "  vehicle_data2.loc[:, 'Fuel_Type'] = Le.fit_transform(vehicle_data2.loc[:, 'Fuel_Type'])\n",
      "C:\\Users\\SRUJAN\\AppData\\Local\\Temp\\ipykernel_16508\\1706172775.py:5: SettingWithCopyWarning: \n",
      "A value is trying to be set on a copy of a slice from a DataFrame.\n",
      "Try using .loc[row_indexer,col_indexer] = value instead\n",
      "\n",
      "See the caveats in the documentation: https://pandas.pydata.org/pandas-docs/stable/user_guide/indexing.html#returning-a-view-versus-a-copy\n",
      "  vehicle_data2.loc[:, 'Transmission'] = Le.fit_transform(vehicle_data2.loc[:, 'Transmission'])\n",
      "C:\\Users\\SRUJAN\\AppData\\Local\\Temp\\ipykernel_16508\\1706172775.py:7: SettingWithCopyWarning: \n",
      "A value is trying to be set on a copy of a slice from a DataFrame.\n",
      "Try using .loc[row_indexer,col_indexer] = value instead\n",
      "\n",
      "See the caveats in the documentation: https://pandas.pydata.org/pandas-docs/stable/user_guide/indexing.html#returning-a-view-versus-a-copy\n",
      "  vehicle_data2.loc[:, 'Driven_Wheels'] = Le.fit_transform(vehicle_data2.loc[:, 'Driven_Wheels'])\n",
      "C:\\Users\\SRUJAN\\AppData\\Local\\Temp\\ipykernel_16508\\1706172775.py:9: SettingWithCopyWarning: \n",
      "A value is trying to be set on a copy of a slice from a DataFrame.\n",
      "Try using .loc[row_indexer,col_indexer] = value instead\n",
      "\n",
      "See the caveats in the documentation: https://pandas.pydata.org/pandas-docs/stable/user_guide/indexing.html#returning-a-view-versus-a-copy\n",
      "  vehicle_data2.loc[:, 'Vehicle_size'] = Le.fit_transform(vehicle_data2.loc[:, 'Vehicle_size'])\n"
     ]
    }
   ],
   "source": [
    "vehicle_data2.loc[:, 'Make'] = Le.fit_transform(vehicle_data2.loc[:, 'Make'])\n",
    "\n",
    "vehicle_data2.loc[:, 'Fuel_Type'] = Le.fit_transform(vehicle_data2.loc[:, 'Fuel_Type'])\n",
    "\n",
    "vehicle_data2.loc[:, 'Transmission'] = Le.fit_transform(vehicle_data2.loc[:, 'Transmission'])\n",
    "\n",
    "vehicle_data2.loc[:, 'Driven_Wheels'] = Le.fit_transform(vehicle_data2.loc[:, 'Driven_Wheels'])\n",
    "\n",
    "vehicle_data2.loc[:, 'Vehicle_size'] = Le.fit_transform(vehicle_data2.loc[:, 'Vehicle_size'])\n"
   ]
  },
  {
   "cell_type": "code",
   "execution_count": 35,
   "id": "dafd742c",
   "metadata": {
    "scrolled": true
   },
   "outputs": [
    {
     "data": {
      "text/html": [
       "<div>\n",
       "<style scoped>\n",
       "    .dataframe tbody tr th:only-of-type {\n",
       "        vertical-align: middle;\n",
       "    }\n",
       "\n",
       "    .dataframe tbody tr th {\n",
       "        vertical-align: top;\n",
       "    }\n",
       "\n",
       "    .dataframe thead th {\n",
       "        text-align: right;\n",
       "    }\n",
       "</style>\n",
       "<table border=\"1\" class=\"dataframe\">\n",
       "  <thead>\n",
       "    <tr style=\"text-align: right;\">\n",
       "      <th></th>\n",
       "      <th>Make</th>\n",
       "      <th>Fuel_Type</th>\n",
       "      <th>Power_HP</th>\n",
       "      <th>No_of_Cylinders</th>\n",
       "      <th>Transmission</th>\n",
       "      <th>Driven_Wheels</th>\n",
       "      <th>Vehicle_size</th>\n",
       "      <th>Mileage_mpg</th>\n",
       "      <th>Popularity</th>\n",
       "      <th>MSRP</th>\n",
       "      <th>No_of_cylinders</th>\n",
       "    </tr>\n",
       "  </thead>\n",
       "  <tbody>\n",
       "    <tr>\n",
       "      <th>0</th>\n",
       "      <td>1</td>\n",
       "      <td>5</td>\n",
       "      <td>270.0</td>\n",
       "      <td>6.0</td>\n",
       "      <td>1</td>\n",
       "      <td>3</td>\n",
       "      <td>2</td>\n",
       "      <td>17</td>\n",
       "      <td>2031</td>\n",
       "      <td>41365</td>\n",
       "      <td>6.0</td>\n",
       "    </tr>\n",
       "    <tr>\n",
       "      <th>2</th>\n",
       "      <td>1</td>\n",
       "      <td>5</td>\n",
       "      <td>270.0</td>\n",
       "      <td>6.0</td>\n",
       "      <td>1</td>\n",
       "      <td>1</td>\n",
       "      <td>2</td>\n",
       "      <td>17</td>\n",
       "      <td>2031</td>\n",
       "      <td>37615</td>\n",
       "      <td>6.0</td>\n",
       "    </tr>\n",
       "    <tr>\n",
       "      <th>26</th>\n",
       "      <td>1</td>\n",
       "      <td>3</td>\n",
       "      <td>205.0</td>\n",
       "      <td>4.0</td>\n",
       "      <td>3</td>\n",
       "      <td>3</td>\n",
       "      <td>0</td>\n",
       "      <td>21</td>\n",
       "      <td>2031</td>\n",
       "      <td>26255</td>\n",
       "      <td>4.0</td>\n",
       "    </tr>\n",
       "    <tr>\n",
       "      <th>27</th>\n",
       "      <td>1</td>\n",
       "      <td>3</td>\n",
       "      <td>200.0</td>\n",
       "      <td>4.0</td>\n",
       "      <td>1</td>\n",
       "      <td>3</td>\n",
       "      <td>0</td>\n",
       "      <td>24</td>\n",
       "      <td>2031</td>\n",
       "      <td>26975</td>\n",
       "      <td>4.0</td>\n",
       "    </tr>\n",
       "    <tr>\n",
       "      <th>28</th>\n",
       "      <td>0</td>\n",
       "      <td>5</td>\n",
       "      <td>135.0</td>\n",
       "      <td>6.0</td>\n",
       "      <td>1</td>\n",
       "      <td>3</td>\n",
       "      <td>2</td>\n",
       "      <td>16</td>\n",
       "      <td>5657</td>\n",
       "      <td>2000</td>\n",
       "      <td>6.0</td>\n",
       "    </tr>\n",
       "  </tbody>\n",
       "</table>\n",
       "</div>"
      ],
      "text/plain": [
       "    Make  Fuel_Type  Power_HP  No_of_Cylinders  Transmission  Driven_Wheels  \\\n",
       "0      1          5     270.0              6.0             1              3   \n",
       "2      1          5     270.0              6.0             1              1   \n",
       "26     1          3     205.0              4.0             3              3   \n",
       "27     1          3     200.0              4.0             1              3   \n",
       "28     0          5     135.0              6.0             1              3   \n",
       "\n",
       "    Vehicle_size  Mileage_mpg  Popularity   MSRP  No_of_cylinders  \n",
       "0              2           17        2031  41365              6.0  \n",
       "2              2           17        2031  37615              6.0  \n",
       "26             0           21        2031  26255              4.0  \n",
       "27             0           24        2031  26975              4.0  \n",
       "28             2           16        5657   2000              6.0  "
      ]
     },
     "execution_count": 35,
     "metadata": {},
     "output_type": "execute_result"
    }
   ],
   "source": [
    "vehicle_data2.head()"
   ]
  },
  {
   "cell_type": "markdown",
   "id": "18f5a93a",
   "metadata": {},
   "source": [
    "# Dependent(Target) and independent Variable"
   ]
  },
  {
   "cell_type": "code",
   "execution_count": 36,
   "id": "c9bcbf15",
   "metadata": {},
   "outputs": [],
   "source": [
    "X = vehicle_data2.drop(['MSRP'],axis =1)\n",
    "y = vehicle_data2['MSRP']"
   ]
  },
  {
   "cell_type": "code",
   "execution_count": 37,
   "id": "f250464e",
   "metadata": {},
   "outputs": [
    {
     "data": {
      "text/html": [
       "<div>\n",
       "<style scoped>\n",
       "    .dataframe tbody tr th:only-of-type {\n",
       "        vertical-align: middle;\n",
       "    }\n",
       "\n",
       "    .dataframe tbody tr th {\n",
       "        vertical-align: top;\n",
       "    }\n",
       "\n",
       "    .dataframe thead th {\n",
       "        text-align: right;\n",
       "    }\n",
       "</style>\n",
       "<table border=\"1\" class=\"dataframe\">\n",
       "  <thead>\n",
       "    <tr style=\"text-align: right;\">\n",
       "      <th></th>\n",
       "      <th>Make</th>\n",
       "      <th>Fuel_Type</th>\n",
       "      <th>Power_HP</th>\n",
       "      <th>No_of_Cylinders</th>\n",
       "      <th>Transmission</th>\n",
       "      <th>Driven_Wheels</th>\n",
       "      <th>Vehicle_size</th>\n",
       "      <th>Mileage_mpg</th>\n",
       "      <th>Popularity</th>\n",
       "      <th>No_of_cylinders</th>\n",
       "    </tr>\n",
       "  </thead>\n",
       "  <tbody>\n",
       "    <tr>\n",
       "      <th>0</th>\n",
       "      <td>1</td>\n",
       "      <td>5</td>\n",
       "      <td>270.0</td>\n",
       "      <td>6.0</td>\n",
       "      <td>1</td>\n",
       "      <td>3</td>\n",
       "      <td>2</td>\n",
       "      <td>17</td>\n",
       "      <td>2031</td>\n",
       "      <td>6.0</td>\n",
       "    </tr>\n",
       "    <tr>\n",
       "      <th>2</th>\n",
       "      <td>1</td>\n",
       "      <td>5</td>\n",
       "      <td>270.0</td>\n",
       "      <td>6.0</td>\n",
       "      <td>1</td>\n",
       "      <td>1</td>\n",
       "      <td>2</td>\n",
       "      <td>17</td>\n",
       "      <td>2031</td>\n",
       "      <td>6.0</td>\n",
       "    </tr>\n",
       "    <tr>\n",
       "      <th>26</th>\n",
       "      <td>1</td>\n",
       "      <td>3</td>\n",
       "      <td>205.0</td>\n",
       "      <td>4.0</td>\n",
       "      <td>3</td>\n",
       "      <td>3</td>\n",
       "      <td>0</td>\n",
       "      <td>21</td>\n",
       "      <td>2031</td>\n",
       "      <td>4.0</td>\n",
       "    </tr>\n",
       "    <tr>\n",
       "      <th>27</th>\n",
       "      <td>1</td>\n",
       "      <td>3</td>\n",
       "      <td>200.0</td>\n",
       "      <td>4.0</td>\n",
       "      <td>1</td>\n",
       "      <td>3</td>\n",
       "      <td>0</td>\n",
       "      <td>24</td>\n",
       "      <td>2031</td>\n",
       "      <td>4.0</td>\n",
       "    </tr>\n",
       "    <tr>\n",
       "      <th>28</th>\n",
       "      <td>0</td>\n",
       "      <td>5</td>\n",
       "      <td>135.0</td>\n",
       "      <td>6.0</td>\n",
       "      <td>1</td>\n",
       "      <td>3</td>\n",
       "      <td>2</td>\n",
       "      <td>16</td>\n",
       "      <td>5657</td>\n",
       "      <td>6.0</td>\n",
       "    </tr>\n",
       "  </tbody>\n",
       "</table>\n",
       "</div>"
      ],
      "text/plain": [
       "    Make  Fuel_Type  Power_HP  No_of_Cylinders  Transmission  Driven_Wheels  \\\n",
       "0      1          5     270.0              6.0             1              3   \n",
       "2      1          5     270.0              6.0             1              1   \n",
       "26     1          3     205.0              4.0             3              3   \n",
       "27     1          3     200.0              4.0             1              3   \n",
       "28     0          5     135.0              6.0             1              3   \n",
       "\n",
       "    Vehicle_size  Mileage_mpg  Popularity  No_of_cylinders  \n",
       "0              2           17        2031              6.0  \n",
       "2              2           17        2031              6.0  \n",
       "26             0           21        2031              4.0  \n",
       "27             0           24        2031              4.0  \n",
       "28             2           16        5657              6.0  "
      ]
     },
     "execution_count": 37,
     "metadata": {},
     "output_type": "execute_result"
    }
   ],
   "source": [
    "X.head()"
   ]
  },
  {
   "cell_type": "code",
   "execution_count": 38,
   "id": "50c4950e",
   "metadata": {},
   "outputs": [
    {
     "data": {
      "text/plain": [
       "0     41365\n",
       "2     37615\n",
       "26    26255\n",
       "27    26975\n",
       "28     2000\n",
       "Name: MSRP, dtype: int64"
      ]
     },
     "execution_count": 38,
     "metadata": {},
     "output_type": "execute_result"
    }
   ],
   "source": [
    "y.head()"
   ]
  },
  {
   "cell_type": "markdown",
   "id": "7c4b6ce4",
   "metadata": {},
   "source": [
    "# Feature Scalling"
   ]
  },
  {
   "cell_type": "code",
   "execution_count": 39,
   "id": "4553d94d",
   "metadata": {},
   "outputs": [],
   "source": [
    "from sklearn.preprocessing import StandardScaler\n",
    "Std_scale = StandardScaler()"
   ]
  },
  {
   "cell_type": "code",
   "execution_count": 40,
   "id": "78c339b6",
   "metadata": {},
   "outputs": [],
   "source": [
    "X['Power_HP'] = Std_scale.fit_transform(X[['Power_HP']])\n",
    "X['No_of_Cylinders'] = Std_scale.fit_transform(X[['No_of_Cylinders']])\n",
    "X['Mileage_mpg'] = Std_scale.fit_transform(X[['Mileage_mpg']])\n",
    "X['Popularity'] = Std_scale.fit_transform(X[['Popularity']])"
   ]
  },
  {
   "cell_type": "code",
   "execution_count": 41,
   "id": "b7c60135",
   "metadata": {},
   "outputs": [
    {
     "data": {
      "text/html": [
       "<div>\n",
       "<style scoped>\n",
       "    .dataframe tbody tr th:only-of-type {\n",
       "        vertical-align: middle;\n",
       "    }\n",
       "\n",
       "    .dataframe tbody tr th {\n",
       "        vertical-align: top;\n",
       "    }\n",
       "\n",
       "    .dataframe thead th {\n",
       "        text-align: right;\n",
       "    }\n",
       "</style>\n",
       "<table border=\"1\" class=\"dataframe\">\n",
       "  <thead>\n",
       "    <tr style=\"text-align: right;\">\n",
       "      <th></th>\n",
       "      <th>Make</th>\n",
       "      <th>Fuel_Type</th>\n",
       "      <th>Power_HP</th>\n",
       "      <th>No_of_Cylinders</th>\n",
       "      <th>Transmission</th>\n",
       "      <th>Driven_Wheels</th>\n",
       "      <th>Vehicle_size</th>\n",
       "      <th>Mileage_mpg</th>\n",
       "      <th>Popularity</th>\n",
       "      <th>No_of_cylinders</th>\n",
       "    </tr>\n",
       "  </thead>\n",
       "  <tbody>\n",
       "    <tr>\n",
       "      <th>0</th>\n",
       "      <td>1</td>\n",
       "      <td>5</td>\n",
       "      <td>0.667354</td>\n",
       "      <td>0.455615</td>\n",
       "      <td>1</td>\n",
       "      <td>3</td>\n",
       "      <td>2</td>\n",
       "      <td>-0.366416</td>\n",
       "      <td>-0.635637</td>\n",
       "      <td>6.0</td>\n",
       "    </tr>\n",
       "    <tr>\n",
       "      <th>2</th>\n",
       "      <td>1</td>\n",
       "      <td>5</td>\n",
       "      <td>0.667354</td>\n",
       "      <td>0.455615</td>\n",
       "      <td>1</td>\n",
       "      <td>1</td>\n",
       "      <td>2</td>\n",
       "      <td>-0.366416</td>\n",
       "      <td>-0.635637</td>\n",
       "      <td>6.0</td>\n",
       "    </tr>\n",
       "    <tr>\n",
       "      <th>26</th>\n",
       "      <td>1</td>\n",
       "      <td>3</td>\n",
       "      <td>-0.107322</td>\n",
       "      <td>-0.837949</td>\n",
       "      <td>3</td>\n",
       "      <td>3</td>\n",
       "      <td>0</td>\n",
       "      <td>0.006662</td>\n",
       "      <td>-0.635637</td>\n",
       "      <td>4.0</td>\n",
       "    </tr>\n",
       "    <tr>\n",
       "      <th>27</th>\n",
       "      <td>1</td>\n",
       "      <td>3</td>\n",
       "      <td>-0.166913</td>\n",
       "      <td>-0.837949</td>\n",
       "      <td>1</td>\n",
       "      <td>3</td>\n",
       "      <td>0</td>\n",
       "      <td>0.286471</td>\n",
       "      <td>-0.635637</td>\n",
       "      <td>4.0</td>\n",
       "    </tr>\n",
       "    <tr>\n",
       "      <th>28</th>\n",
       "      <td>0</td>\n",
       "      <td>5</td>\n",
       "      <td>-0.941589</td>\n",
       "      <td>0.455615</td>\n",
       "      <td>1</td>\n",
       "      <td>3</td>\n",
       "      <td>2</td>\n",
       "      <td>-0.459686</td>\n",
       "      <td>1.075846</td>\n",
       "      <td>6.0</td>\n",
       "    </tr>\n",
       "  </tbody>\n",
       "</table>\n",
       "</div>"
      ],
      "text/plain": [
       "    Make  Fuel_Type  Power_HP  No_of_Cylinders  Transmission  Driven_Wheels  \\\n",
       "0      1          5  0.667354         0.455615             1              3   \n",
       "2      1          5  0.667354         0.455615             1              1   \n",
       "26     1          3 -0.107322        -0.837949             3              3   \n",
       "27     1          3 -0.166913        -0.837949             1              3   \n",
       "28     0          5 -0.941589         0.455615             1              3   \n",
       "\n",
       "    Vehicle_size  Mileage_mpg  Popularity  No_of_cylinders  \n",
       "0              2    -0.366416   -0.635637              6.0  \n",
       "2              2    -0.366416   -0.635637              6.0  \n",
       "26             0     0.006662   -0.635637              4.0  \n",
       "27             0     0.286471   -0.635637              4.0  \n",
       "28             2    -0.459686    1.075846              6.0  "
      ]
     },
     "execution_count": 41,
     "metadata": {},
     "output_type": "execute_result"
    }
   ],
   "source": [
    "X.head()"
   ]
  },
  {
   "cell_type": "markdown",
   "id": "c61768e3",
   "metadata": {},
   "source": [
    "# Splitting Data into Training and testing"
   ]
  },
  {
   "cell_type": "code",
   "execution_count": 42,
   "id": "8a49f833",
   "metadata": {},
   "outputs": [],
   "source": [
    "from sklearn.model_selection import train_test_split"
   ]
  },
  {
   "cell_type": "code",
   "execution_count": 43,
   "id": "e2f53d36",
   "metadata": {},
   "outputs": [],
   "source": [
    "X_train,X_test,y_train,y_test = train_test_split(X,y,test_size = 0.2, random_state = 42)"
   ]
  },
  {
   "cell_type": "markdown",
   "id": "08549631",
   "metadata": {},
   "source": [
    "# Model Development"
   ]
  },
  {
   "cell_type": "code",
   "execution_count": 44,
   "id": "4c2f0dab",
   "metadata": {},
   "outputs": [],
   "source": [
    "from sklearn.linear_model import LinearRegression\n",
    "LinearReg = LinearRegression()"
   ]
  },
  {
   "cell_type": "markdown",
   "id": "4d80a837",
   "metadata": {},
   "source": [
    "# Model train"
   ]
  },
  {
   "cell_type": "code",
   "execution_count": 45,
   "id": "d9df06f8",
   "metadata": {
    "scrolled": true
   },
   "outputs": [],
   "source": [
    "from sklearn.impute import SimpleImputer\n",
    "\n",
    "X = vehicle_data[['Engine Cylinders', 'Engine Cylinders','Popularity']]\n",
    "y = vehicle_data['MSRP']\n",
    "\n",
    "# Split data into training and testing sets\n",
    "X_train, X_test, y_train, y_test = train_test_split(X, y, test_size=0.2, random_state=42)\n",
    "\n",
    "# Remove rows with NaN or infinite values in X_train\n",
    "X_train = X_train.replace([np.inf, -np.inf], np.nan).dropna()\n",
    "y_train = y_train.loc[X_train.index]  # Align y_train with filtered X_train\n",
    "\n",
    "# Impute missing values (if any) with the mean\n",
    "imputer = SimpleImputer(strategy='mean')\n",
    "X_train = imputer.fit_transform(X_train)\n",
    "X_test = imputer.transform(X_test)  # Apply same transformation to X_test\n",
    "\n",
    "# Scale the data using StandardScaler\n",
    "scaler = StandardScaler()\n",
    "X_train = scaler.fit_transform(X_train)\n",
    "X_test = scaler.transform(X_test)  # Apply same transformation to X_test\n",
    "\n",
    "# Fit the Linear Regression model\n",
    "LinearReg = LinearRegression()\n",
    "LinearReg.fit(X_train, y_train)\n",
    "\n",
    "# Optional: Predict and evaluate\n",
    "y_pred = LinearReg.predict(X_test)\n"
   ]
  },
  {
   "cell_type": "markdown",
   "id": "56b72bb3",
   "metadata": {},
   "source": [
    "# Model Prediction"
   ]
  },
  {
   "cell_type": "code",
   "execution_count": 48,
   "id": "02a80731-5c90-47e5-a7cf-fbafaa1df254",
   "metadata": {},
   "outputs": [
    {
     "name": "stdout",
     "output_type": "stream",
     "text": [
      "[24313.44217289 44048.07862697 35919.6304805  21937.35174512\n",
      " 18576.32735844 10195.42807323 39962.37369412 19923.82122376\n",
      " 27304.20333149 35352.41946175 30429.8095294  28109.6087826\n",
      " 51812.0613368  29188.25906373 34362.92326411 28013.4016863\n",
      " 44591.53648953 45119.42205866 23585.35727128 28844.4239303\n",
      " 25292.89245137 10475.02359942 41304.75593319 22438.78182083\n",
      " 20573.11930201 30479.84449229 26693.15116184 44591.78867384\n",
      " 35771.78070184 45450.48594614 23585.40770814 21141.36452649\n",
      " 26822.45096711 24863.57426613 22645.27332993 46706.79079264\n",
      " 12207.381408   30536.50459884 24897.83126161 33005.71796522\n",
      " 25790.99990589 11194.71822322 19923.41772886 20311.20913766\n",
      " 18320.46227451 39055.48673582 34943.17512758 16263.50545345\n",
      " 15044.86790875 35918.2456276  10156.09712339 20206.19077736\n",
      " 42973.68375014 32261.95995549 35347.57752301 20833.44574351\n",
      " 33394.53022625 34876.48471901 44445.51567125 35770.3684697\n",
      " 35919.02523816 46706.53860833 36494.65255506 39055.53717269\n",
      " 30712.07820928 35413.41978833 28290.12231136 33392.96668353\n",
      " 45448.97284029 32718.82946313 16380.17639794 20801.61249329\n",
      " 45630.73149937 39056.24328875 30762.90162879 23166.14786544\n",
      " 27747.41997661 12708.10892106 46801.41034558 23970.58985819\n",
      " 20206.24121422 17244.81262811 19683.53598051 37160.55518857\n",
      " 20266.69195061 32062.30304014 28010.224164   31937.54878915\n",
      " 22515.66106751 25145.23770366 12553.71582646 37441.9664418\n",
      " 20256.36441724 30326.79345674 26476.40939834 42327.89369165\n",
      " 21694.45920496 31190.0513865  20679.10308577 39962.9284996\n",
      " 11326.77486812 48267.4108586  28796.59528382 23671.03309333\n",
      " 29773.89753071 28797.04921558 27446.97410503 23165.5426231\n",
      " 32194.44787198 30511.45084782 20316.2954326  30328.55874691\n",
      " 46974.39122504 35918.97480129 14789.63888674 45119.37162179\n",
      " 32168.81687038 29494.37195263 38460.00589966 35413.97459381\n",
      " 26538.87092882 40013.8220041  35167.03029726  7969.93872789\n",
      " 19642.4604074  17659.19724651 34943.83080678 46974.4416619\n",
      " 46710.17006239 41304.80637005 42366.69558239 37305.90197116\n",
      " 15279.43554614 43338.79106801 34943.6794962  25901.2734149\n",
      " 42972.57413917 21684.03860563 45632.29504208 30557.14248325\n",
      " 28019.9714586   4218.22795442 32374.00813539 45631.03412054\n",
      " 35413.3189146  34877.59432998 27102.50042506 45022.33109949\n",
      " 38058.94003086  5255.66107767 32974.56374382 32373.65507735\n",
      " 25145.48988797 86980.70207597 30903.26454949 31490.26443311\n",
      " 28109.96184063 23085.93621176 41627.93541431 35350.40198728\n",
      " 20833.09268547 25179.04076738 45027.67740685 12854.34198635\n",
      " 26499.26335309 42045.37282747  7632.55849522 43255.14544022\n",
      " 16378.96591325 28054.17233823 25790.89903216 28290.32405881\n",
      " 42461.06295102 45024.34857396 53825.80166076 32168.56468607\n",
      " 32226.31446005 22493.06693788 28910.82284945 35413.52066205\n",
      " 48112.02257608 28796.89790499 48107.6345691  24617.61462081\n",
      " 32168.6655598  37442.16818924 22794.13496498 16118.57170952\n",
      " 26960.82900787 32169.22036528 21936.74650278 36494.24906016\n",
      " 10542.85510806 20801.30987212 33547.17988548 20801.66293016\n",
      " 15965.05412064 20266.94413492 26470.42089843 48112.17388667\n",
      " 60914.3640128  25901.42472548 32195.60791981 44046.36377367\n",
      " 28011.43464868 24453.29919251 23086.33970665 32225.25528595\n",
      " 11014.31741106 34797.86079186 45024.09638965 25784.37411466\n",
      " 48112.37563412 26692.44504577 46705.42899737 40433.51735276\n",
      " 25794.31017645 26960.98031845  5277.23827835 32687.55860875\n",
      " 41304.6046226  28110.11315122 11195.07128126 28362.67746982\n",
      " 26960.92988159 19683.33423306 38059.89833123 46705.07593934\n",
      " 10093.29346184 20572.66537026 28161.42734499 41975.67054304\n",
      " 29026.95493354 46709.71613063 36200.78954941  8275.3018195\n",
      " 47297.41301498 24253.00984865  7632.60893208 48107.38238479\n",
      " 38178.03984096 37933.46471412  2061.30615903 12194.38831677\n",
      " 33867.52393824 23786.82228528 35919.32785933 23165.99655485\n",
      " 25159.81600901 34750.85511608 26960.62726042 46710.67443101\n",
      " 32976.63165516  8982.65457498 20800.95681409 14328.13717884\n",
      " 41263.75426057 32194.54874571 14649.94835845 26476.20765089\n",
      " 34600.48828706 44050.14653831 31290.34386862 27102.75260937\n",
      " 23303.4920863  31780.43785516 18314.19301633 16848.85066745\n",
      " 43254.74194533 30480.70191894 30712.78432534 20265.7840871\n",
      " 28290.82842743 29187.95644256 33505.01864772 24252.8081012\n",
      " 19683.9394754  11326.37137322 25903.08914192 30327.09607791\n",
      " 22632.90877676 24861.94611183 33504.5142791  44592.19216873\n",
      " 12475.09345392 34770.12219936 47344.47661531 34944.03255423\n",
      " 42045.62501178 39962.97893646  5536.01315679 23086.44058038\n",
      " 35919.52960677 46709.96831494 10195.57938382 25794.36061332\n",
      " 31771.87743378 42366.09034005 26960.67769728 28109.81053005\n",
      " 27446.8732313  19684.19165971 39157.43759328 48107.02932675\n",
      " 28111.17232532 12080.29914943 33054.27708141 25794.66323449\n",
      " 25259.09975389 21747.35708548 13134.44188116 24998.18538098\n",
      " 35413.62153577 14649.19180552 17245.11524928 27043.86225988\n",
      " 11326.87574184 57089.44438063 40013.56981979 44444.85999204\n",
      " 35353.17601468 28428.34626402 34362.97370097 22351.74970784\n",
      " 18996.11333284 35167.68597647  8250.29080701 33867.01956962\n",
      " 27985.87613995 11013.81304244 32718.93033685 12436.4548429\n",
      " 45119.01856376 40013.92287782 51905.81582476 31194.59450709\n",
      " 30557.24335697 34750.70380549 12638.79520415 30330.67709511\n",
      " 47297.66519929 23165.24000193 26410.47898707 28909.20886987\n",
      " 22771.46221618  5545.08868493 18320.10921647 23585.10508697\n",
      " 48267.66304291 19326.10981393 21747.20577489 42363.61893382\n",
      " 24863.4733924  27447.02454189 38056.11556659 17658.64244103\n",
      " 27006.56753214 33867.1708802  10475.78015235 44050.24741203\n",
      " 22172.16362179 20037.55733306 42198.08624096 25750.71683204\n",
      " 45120.12817472 45021.92760459 13721.31292168 29187.30076336\n",
      " 10195.32719951 26822.35009338 51673.19427882 27604.42458892\n",
      " 30391.46799631 24171.73662871 21747.15533803 34081.40803468\n",
      " 28362.66434683 31208.40827767 20203.22270854 30330.32403707\n",
      " 22516.4680573  28266.00696037 10909.91631641 12638.89607787\n",
      " 32220.32183764 28548.88088259 32168.96818097 46710.27093611\n",
      " 28005.38222526 32687.91166678  8232.06944041 19683.88903854\n",
      " 30057.52800585 23303.39121257 12080.85395491 28110.31489867\n",
      " 21937.20043454 16119.07607814 11014.11566361 34602.85881957\n",
      " 30391.215812   35352.31858803 28428.44713774 25917.26190012\n",
      " 33054.07533397 13010.3528017  39056.0415413  23165.79480741\n",
      " 19277.57502293 36494.29949702 30480.55060835 13134.84537606\n",
      " 23363.37031533 17238.62477943 32225.35615967 35413.82328322\n",
      "  8982.50326439  3463.47167199 30391.36712259 11549.25776268\n",
      " 26063.77843389 30479.99580287 28797.09965244]\n"
     ]
    }
   ],
   "source": [
    "import pandas as pd\n",
    "import numpy as np\n",
    "from sklearn.impute import SimpleImputer\n",
    "from sklearn.preprocessing import StandardScaler, OneHotEncoder\n",
    "from sklearn.compose import ColumnTransformer\n",
    "from sklearn.pipeline import Pipeline\n",
    "from sklearn.linear_model import LinearRegression\n",
    "from sklearn.model_selection import train_test_split\n",
    "\n",
    "# Load the data\n",
    "data = pd.read_csv('vechile_price_dataset.csv')  # Replace with your actual data source\n",
    "\n",
    "# Define features and target\n",
    "X = data.drop('MSRP', axis=1)  # 'MSRP' is the target column\n",
    "y = data['MSRP']\n",
    "\n",
    "# Identify numeric and categorical columns\n",
    "numeric_features = X.select_dtypes(include=[np.number]).columns\n",
    "categorical_features = X.select_dtypes(exclude=[np.number]).columns\n",
    "\n",
    "# Create preprocessing pipelines for numeric and categorical data\n",
    "numeric_transformer = Pipeline(steps=[\n",
    "    ('imputer', SimpleImputer(strategy='mean')),  # Impute missing values with mean\n",
    "    ('scaler', StandardScaler())  # Standardize numeric features\n",
    "])\n",
    "\n",
    "categorical_transformer = Pipeline(steps=[\n",
    "    ('imputer', SimpleImputer(strategy='most_frequent')),  # Impute with most frequent value\n",
    "    ('onehot', OneHotEncoder(handle_unknown='ignore'))  # Encode categorical data\n",
    "])\n",
    "\n",
    "# Combine preprocessing steps using ColumnTransformer\n",
    "preprocessor = ColumnTransformer(\n",
    "    transformers=[\n",
    "        ('num', numeric_transformer, numeric_features),\n",
    "        ('cat', categorical_transformer, categorical_features)\n",
    "    ]\n",
    ")\n",
    "\n",
    "# Split the data\n",
    "X_train, X_test, y_train, y_test = train_test_split(X, y, test_size=0.2, random_state=42)\n",
    "\n",
    "# Preprocess data using the ColumnTransformer\n",
    "X_train = preprocessor.fit_transform(X_train)\n",
    "X_test = preprocessor.transform(X_test)\n",
    "\n",
    "# Train the Linear Regression model\n",
    "LinearReg = LinearRegression()\n",
    "LinearReg.fit(X_train, y_train)\n",
    "\n",
    "# Predict on the test set\n",
    "y_pred = LinearReg.predict(X_test)\n",
    "\n",
    "# Optional: Display predictions\n",
    "print(y_pred)\n"
   ]
  },
  {
   "cell_type": "code",
   "execution_count": 49,
   "id": "c7871843",
   "metadata": {},
   "outputs": [],
   "source": [
    "#list(y_test)"
   ]
  },
  {
   "cell_type": "markdown",
   "id": "41be5ba3",
   "metadata": {},
   "source": [
    "# Model Evaluation"
   ]
  },
  {
   "cell_type": "code",
   "execution_count": 50,
   "id": "15a42cd2",
   "metadata": {},
   "outputs": [],
   "source": [
    "from sklearn.metrics import r2_score,mean_squared_error"
   ]
  },
  {
   "cell_type": "code",
   "execution_count": 51,
   "id": "f4ff0852",
   "metadata": {},
   "outputs": [
    {
     "data": {
      "text/plain": [
       "0.6690491633222007"
      ]
     },
     "execution_count": 51,
     "metadata": {},
     "output_type": "execute_result"
    }
   ],
   "source": [
    "r2_score(y_test, y_pred)"
   ]
  },
  {
   "cell_type": "code",
   "execution_count": 52,
   "id": "b3aa26a0",
   "metadata": {},
   "outputs": [
    {
     "data": {
      "text/plain": [
       "58379742.36118142"
      ]
     },
     "execution_count": 52,
     "metadata": {},
     "output_type": "execute_result"
    }
   ],
   "source": [
    "mse = mean_squared_error(y_test,y_pred)\n",
    "mse"
   ]
  },
  {
   "cell_type": "code",
   "execution_count": 53,
   "id": "2c913ded",
   "metadata": {},
   "outputs": [
    {
     "data": {
      "text/plain": [
       "7640.663738261318"
      ]
     },
     "execution_count": 53,
     "metadata": {},
     "output_type": "execute_result"
    }
   ],
   "source": [
    "RMSE = (mse)**0.5\n",
    "RMSE"
   ]
  },
  {
   "cell_type": "code",
   "execution_count": null,
   "id": "45283935",
   "metadata": {},
   "outputs": [],
   "source": []
  }
 ],
 "metadata": {
  "kernelspec": {
   "display_name": "Python 3 (ipykernel)",
   "language": "python",
   "name": "python3"
  },
  "language_info": {
   "codemirror_mode": {
    "name": "ipython",
    "version": 3
   },
   "file_extension": ".py",
   "mimetype": "text/x-python",
   "name": "python",
   "nbconvert_exporter": "python",
   "pygments_lexer": "ipython3",
   "version": "3.9.12"
  }
 },
 "nbformat": 4,
 "nbformat_minor": 5
}
